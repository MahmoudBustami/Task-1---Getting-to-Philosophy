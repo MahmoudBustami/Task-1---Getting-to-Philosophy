{
 "cells": [
  {
   "cell_type": "markdown",
   "metadata": {},
   "source": [
    "# Task 1 - Getting to Philosophy"
   ]
  },
  {
   "cell_type": "code",
   "execution_count": 15,
   "metadata": {},
   "outputs": [],
   "source": [
    "# Import libraries necessary for this project\n",
    "import urllib.request\n",
    "import time"
   ]
  },
  {
   "cell_type": "code",
   "execution_count": null,
   "metadata": {},
   "outputs": [],
   "source": [
    "opener = urllib.request.build_opener()\n",
    "opener.addheaders = [('User-agent', 'Chrome/35.0.1916.47')]\n",
    "\n",
    "newURL= input('please Enter The URL ')\n",
    "\n",
    "#Finds the first link/title (broken when it has a country)\n",
    "def getNextURL(newURL): \n",
    "    infile = opener.open(newURL)\n",
    "    page = infile.read().decode('utf-8')\n",
    "    mainP = page[page.find('<p>'):page.find('<p>')+500] #Find the first <p> tag for the main body\n",
    "    newPage = mainP[mainP.find('<a href=\"/wiki/')+15:mainP.find('\"',mainP.find('<a href=\"/wiki/')+15)] #Find the first href for the link\n",
    "    return newPage\n",
    "\n",
    "newPage = getNextURL(newURL)\n",
    "\n",
    "\n",
    "if newPage == 'Philosophy':\n",
    "    print(\"your input page was the Philosophy page!\")\n",
    "else:\n",
    "    print(\"Our Begining on the \" + newPage + \" page.\")\n",
    "    while newPage !='Philosophy':\n",
    "        #Creates the next link to go to based upon the first link\n",
    "        newURL = 'http://en.wikipedia.org/w/index.php?title=' + newPage \n",
    "        newPage = getNextURL(newURL)\n",
    "        print ('Now opening the ' + newPage + ' page.')\n",
    "        #Wait 0.5 second to avoid heavy load on Wikipedia\n",
    "        time.sleep(0.5)\n"
   ]
  },
  {
   "cell_type": "code",
   "execution_count": null,
   "metadata": {},
   "outputs": [],
   "source": []
  }
 ],
 "metadata": {
  "kernelspec": {
   "display_name": "Python 3",
   "language": "python",
   "name": "python3"
  },
  "language_info": {
   "codemirror_mode": {
    "name": "ipython",
    "version": 3
   },
   "file_extension": ".py",
   "mimetype": "text/x-python",
   "name": "python",
   "nbconvert_exporter": "python",
   "pygments_lexer": "ipython3",
   "version": "3.6.5"
  }
 },
 "nbformat": 4,
 "nbformat_minor": 2
}
